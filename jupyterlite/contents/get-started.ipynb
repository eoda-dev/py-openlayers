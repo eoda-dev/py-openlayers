{
  "metadata": {
    "kernelspec": {
      "name": "python",
      "display_name": "Python (Pyodide)",
      "language": "python"
    },
    "language_info": {
      "codemirror_mode": {
        "name": "python",
        "version": 3
      },
      "file_extension": ".py",
      "mimetype": "text/x-python",
      "name": "python",
      "nbconvert_exporter": "python",
      "pygments_lexer": "ipython3",
      "version": "3.8"
    }
  },
  "nbformat_minor": 5,
  "nbformat": 4,
  "cells": [
    {
      "id": "66605b1e-7af5-4148-8239-c3812cfad687",
      "cell_type": "code",
      "source": "%pip install openlayers",
      "metadata": {
        "trusted": true
      },
      "outputs": [],
      "execution_count": 3
    },
    {
      "id": "03aad39a-c9f9-443f-9e2d-cd5a25ce0407",
      "cell_type": "code",
      "source": "import openlayers as ol",
      "metadata": {
        "trusted": true
      },
      "outputs": [],
      "execution_count": 4
    },
    {
      "id": "b2b99974-7e84-4712-8f76-043ed6319049",
      "cell_type": "code",
      "source": "m = ol.MapWidget()",
      "metadata": {
        "trusted": true
      },
      "outputs": [],
      "execution_count": 5
    },
    {
      "id": "6afbefe8-254b-405e-905c-5a035325fe13",
      "cell_type": "code",
      "source": "m",
      "metadata": {
        "trusted": true
      },
      "outputs": [
        {
          "execution_count": 6,
          "output_type": "execute_result",
          "data": {
            "text/plain": "MapWidget(height='400px', options={'view': {'center': (0.0, 0.0), 'zoom': 0, 'projection': 'EPSG:3857', '@@typ…",
            "application/vnd.jupyter.widget-view+json": {
              "version_major": 2,
              "version_minor": 1,
              "model_id": "594077a998d04fd4a78680779fb1cd23"
            }
          },
          "metadata": {}
        }
      ],
      "execution_count": 6
    },
    {
      "id": "f2aa5a68-adf1-4fcb-9d5d-06050c8e1641",
      "cell_type": "code",
      "source": "",
      "metadata": {
        "trusted": true
      },
      "outputs": [],
      "execution_count": null
    }
  ]
}