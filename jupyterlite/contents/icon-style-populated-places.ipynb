{
  "metadata": {
    "kernelspec": {
      "name": "python",
      "display_name": "Python (Pyodide)",
      "language": "python"
    },
    "language_info": {
      "codemirror_mode": {
        "name": "python",
        "version": 3
      },
      "file_extension": ".py",
      "mimetype": "text/x-python",
      "name": "python",
      "nbconvert_exporter": "python",
      "pygments_lexer": "ipython3",
      "version": "3.8"
    }
  },
  "nbformat_minor": 5,
  "nbformat": 4,
  "cells": [
    {
      "id": "dd19bccc-ca86-4a9d-a687-ef57aad99930",
      "cell_type": "code",
      "source": "%pip install openlayers",
      "metadata": {
        "trusted": true
      },
      "outputs": [],
      "execution_count": 1
    },
    {
      "id": "db0aabf6-238b-4319-b3f5-3d87e594e62e",
      "cell_type": "code",
      "source": "import openlayers as ol",
      "metadata": {
        "trusted": true
      },
      "outputs": [],
      "execution_count": 8
    },
    {
      "id": "aed4c003-b3c2-4e01-bb9f-716212344e6c",
      "cell_type": "code",
      "source": "data = \"https://openlayers.org/data/vector/populated-places.json\"",
      "metadata": {
        "trusted": true
      },
      "outputs": [],
      "execution_count": 3
    },
    {
      "id": "e3573938-5418-4dc6-869d-8d692f8f243f",
      "cell_type": "code",
      "source": "style = ol.FlatStyle(\n    icon_src=\"https://openlayers.org/en/latest/examples/data/icon.png\",\n    icon_scale=0.4,\n    icon_color=\"steelblue\"\n)",
      "metadata": {
        "trusted": true
      },
      "outputs": [],
      "execution_count": 36
    },
    {
      "id": "d039fe26-ec7f-43a6-8aae-ed36c075c043",
      "cell_type": "code",
      "source": "vector = ol.VectorLayer(style=style, source=ol.VectorSource(url=data))",
      "metadata": {
        "trusted": true
      },
      "outputs": [],
      "execution_count": 37
    },
    {
      "id": "c8828f24-aaea-4dff-a4ab-4acb1f271fa9",
      "cell_type": "code",
      "source": "m = ol.MapWidget(layers=[ol.BasemapLayer(), vector])",
      "metadata": {
        "trusted": true
      },
      "outputs": [],
      "execution_count": 38
    },
    {
      "id": "0c6fdc02-b5e3-4066-b1cb-0eed736d1253",
      "cell_type": "code",
      "source": "m.add_tooltip()",
      "metadata": {
        "trusted": true
      },
      "outputs": [],
      "execution_count": 39
    },
    {
      "id": "dea355b7-e108-4193-811a-25e360caad32",
      "cell_type": "code",
      "source": "m",
      "metadata": {
        "trusted": true
      },
      "outputs": [
        {
          "execution_count": 40,
          "output_type": "execute_result",
          "data": {
            "text/plain": "MapWidget(calls=[{'method': 'addTooltip', 'args': (None,)}], height='400px', options={'view': {'center': (0.0,…",
            "application/vnd.jupyter.widget-view+json": {
              "version_major": 2,
              "version_minor": 1,
              "model_id": "30d1d0b0f4ea41399b4a828d1584a2be"
            }
          },
          "metadata": {}
        }
      ],
      "execution_count": 40
    },
    {
      "id": "4891a5ef-694d-4d98-9977-9a11cd9108b4",
      "cell_type": "code",
      "source": "",
      "metadata": {
        "trusted": true
      },
      "outputs": [],
      "execution_count": null
    }
  ]
}