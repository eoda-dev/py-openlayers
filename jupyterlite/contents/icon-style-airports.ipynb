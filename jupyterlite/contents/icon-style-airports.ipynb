{
  "metadata": {
    "kernelspec": {
      "name": "python",
      "display_name": "Python (Pyodide)",
      "language": "python"
    },
    "language_info": {
      "codemirror_mode": {
        "name": "python",
        "version": 3
      },
      "file_extension": ".py",
      "mimetype": "text/x-python",
      "name": "python",
      "nbconvert_exporter": "python",
      "pygments_lexer": "ipython3",
      "version": "3.8"
    }
  },
  "nbformat_minor": 5,
  "nbformat": 4,
  "cells": [
    {
      "id": "c625b9af-8fb0-464b-817c-dd06c8aedd3e",
      "cell_type": "code",
      "source": "%pip install openlayers",
      "metadata": {
        "trusted": true
      },
      "outputs": [],
      "execution_count": 1
    },
    {
      "id": "3b0fcd79-9467-4513-9699-6a59fc36b57c",
      "cell_type": "code",
      "source": "# See https://docs.maptiler.com/openlayers/examples/geojson-points/\n\nimport openlayers as ol",
      "metadata": {
        "trusted": true
      },
      "outputs": [],
      "execution_count": 2
    },
    {
      "id": "63f4139e-80b1-4f18-ad40-a55307c2479d",
      "cell_type": "code",
      "source": "plane = \"https://docs.maptiler.com/openlayers/examples/geojson-points/icon-plane-512.png\"",
      "metadata": {
        "trusted": true
      },
      "outputs": [],
      "execution_count": 3
    },
    {
      "id": "db80be7f-d2eb-410a-a95e-91afe2722189",
      "cell_type": "code",
      "source": "data = \"https://d2ad6b4ur7yvpq.cloudfront.net/naturalearth-3.3.0/ne_10m_airports.geojson\"",
      "metadata": {
        "trusted": true
      },
      "outputs": [],
      "execution_count": 20
    },
    {
      "id": "3f3fb488-bc49-4c3a-99cb-cc687453b7ef",
      "cell_type": "code",
      "source": "style = ol.FlatStyle(\n    icon_src=plane,\n    icon_scale=0.03,\n)",
      "metadata": {
        "trusted": true
      },
      "outputs": [],
      "execution_count": 21
    },
    {
      "id": "da4ca3a8-72cd-482d-b5f5-65ef42f200a4",
      "cell_type": "code",
      "source": "vector = ol.VectorLayer(style=style, source=ol.VectorSource(url=data))",
      "metadata": {
        "trusted": true
      },
      "outputs": [],
      "execution_count": 22
    },
    {
      "id": "1ab19543-6940-4cfa-af3a-c37a3d19a44b",
      "cell_type": "code",
      "source": "m = ol.MapWidget(\n    ol.View(center=(16.62662018, 49.2125578), zoom=5),\n    layers=[ol.BasemapLayer(), vector]\n)",
      "metadata": {
        "trusted": true
      },
      "outputs": [],
      "execution_count": 23
    },
    {
      "id": "1c7882b4-2dca-4ab9-a297-a19fd0bee692",
      "cell_type": "code",
      "source": "m.add_tooltip()",
      "metadata": {
        "trusted": true
      },
      "outputs": [],
      "execution_count": 24
    },
    {
      "id": "70db70ae-64ec-45ac-8a6f-6e0e5e6fd2b9",
      "cell_type": "code",
      "source": "m",
      "metadata": {
        "trusted": true
      },
      "outputs": [
        {
          "execution_count": 25,
          "output_type": "execute_result",
          "data": {
            "text/plain": "MapWidget(calls=[{'method': 'addTooltip', 'args': (None,)}], height='400px', options={'view': {'center': (16.6…",
            "application/vnd.jupyter.widget-view+json": {
              "version_major": 2,
              "version_minor": 1,
              "model_id": "c79ac81b5cb14c54961c43df64b045cd"
            }
          },
          "metadata": {}
        }
      ],
      "execution_count": 25
    },
    {
      "id": "a349c02d-e6db-471c-91a2-f1699c70ec55",
      "cell_type": "code",
      "source": "",
      "metadata": {
        "trusted": true
      },
      "outputs": [],
      "execution_count": null
    }
  ]
}