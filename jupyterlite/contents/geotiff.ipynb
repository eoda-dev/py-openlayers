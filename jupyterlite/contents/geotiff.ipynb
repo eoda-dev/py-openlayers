{
  "metadata": {
    "kernelspec": {
      "name": "python",
      "display_name": "Python (Pyodide)",
      "language": "python"
    },
    "language_info": {
      "codemirror_mode": {
        "name": "python",
        "version": 3
      },
      "file_extension": ".py",
      "mimetype": "text/x-python",
      "name": "python",
      "nbconvert_exporter": "python",
      "pygments_lexer": "ipython3",
      "version": "3.8"
    }
  },
  "nbformat_minor": 5,
  "nbformat": 4,
  "cells": [
    {
      "id": "9107e9f6-fb76-4f0c-89f7-576226375420",
      "cell_type": "code",
      "source": "%pip install openlayers",
      "metadata": {
        "trusted": true
      },
      "outputs": [],
      "execution_count": 1
    },
    {
      "id": "853579b6-8499-4927-a7a1-bfae79f78107",
      "cell_type": "code",
      "source": "import openlayers as ol",
      "metadata": {
        "trusted": true
      },
      "outputs": [],
      "execution_count": 2
    },
    {
      "id": "d4dfb1d9-3d1a-44c3-9bdc-5e7458811fd4",
      "cell_type": "code",
      "source": "data = \"https://sentinel-cogs.s3.us-west-2.amazonaws.com/sentinel-s2-l2a-cogs/36/Q/WD/2020/7/S2A_36QWD_20200701_0_L2A/TCI.tif\"",
      "metadata": {
        "trusted": true
      },
      "outputs": [],
      "execution_count": 3
    },
    {
      "id": "ed79ba6a-65e5-4a3b-afbb-ada812fad00f",
      "cell_type": "code",
      "source": "geotiff = ol.WebGLTileLayer(\n    id=\"cog\",\n    opacity=0.5,\n    source=ol.GeoTIFFSource(sources=[dict(url=data)])\n)",
      "metadata": {
        "trusted": true
      },
      "outputs": [],
      "execution_count": 4
    },
    {
      "id": "466d9454-2ff5-42cf-b16f-e16438904977",
      "cell_type": "code",
      "source": "m = ol.MapWidget()\nm.add_layer(geotiff)",
      "metadata": {
        "trusted": true
      },
      "outputs": [],
      "execution_count": 9
    },
    {
      "id": "91d8bb71-ba0b-4206-b36a-e0098c462ec7",
      "cell_type": "code",
      "source": "m",
      "metadata": {
        "trusted": true
      },
      "outputs": [
        {
          "execution_count": 10,
          "output_type": "execute_result",
          "data": {
            "text/plain": "MapWidget(calls=[{'method': 'addLayer', 'args': ({'id': 'cog', 'source': {'sources': [{'url': 'https://sentine…",
            "application/vnd.jupyter.widget-view+json": {
              "version_major": 2,
              "version_minor": 1,
              "model_id": "b888fe271d0e4e4bbcbbddb5bc949f79"
            }
          },
          "metadata": {}
        }
      ],
      "execution_count": 10
    },
    {
      "id": "0d072d98-399d-44c6-a180-985c799e3ed1",
      "cell_type": "code",
      "source": "m.set_view_from_source(\"cog\")",
      "metadata": {
        "trusted": true
      },
      "outputs": [],
      "execution_count": 11
    },
    {
      "id": "399cf8c8-0e53-4513-96b3-4bf916cc6fa8",
      "cell_type": "code",
      "source": "",
      "metadata": {
        "trusted": true
      },
      "outputs": [],
      "execution_count": null
    }
  ]
}