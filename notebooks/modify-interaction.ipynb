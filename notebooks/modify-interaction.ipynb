{
 "cells": [
  {
   "cell_type": "code",
   "execution_count": 1,
   "id": "ea1efd9a-adcc-4ceb-9d66-1f2436bf0bf1",
   "metadata": {},
   "outputs": [],
   "source": [
    "import openlayers as ol"
   ]
  },
  {
   "cell_type": "code",
   "execution_count": null,
   "id": "5f0015f6-9f02-4fcc-9949-a4d9d46515d3",
   "metadata": {},
   "outputs": [
    {
     "data": {
      "text/plain": [
       "GeoTIFFSource(normalize=None, sources=[{'url': 'https://s2downloads.eox.at/demo/EOxCloudless/2020/rgbnir/s2cloudless2020-16bits_sinlge-file_z0-4.tif'}], type='GeoTIFFSource')"
      ]
     },
     "execution_count": 2,
     "metadata": {},
     "output_type": "execute_result"
    }
   ],
   "source": [
    "ol.GeoDataFrame.from_file()"
   ]
  },
  {
   "cell_type": "code",
   "execution_count": 8,
   "id": "bf927816-1ce2-4929-8b9e-aeed7680be42",
   "metadata": {},
   "outputs": [
    {
     "data": {
      "text/plain": [
       "{'id': 'a0ccb9af-caa2-447f-8a78-5472a940af9c',\n",
       " 'source': {'sources': [{'url': 'https://s2downloads.eox.at/demo/EOxCloudless/2020/rgbnir/s2cloudless2020-16bits_sinlge-file_z0-4.tif'}],\n",
       "  '@@type': 'GeoTIFFSource'},\n",
       " '@@type': 'WebGLTileLayer'}"
      ]
     },
     "execution_count": 8,
     "metadata": {},
     "output_type": "execute_result"
    }
   ],
   "source": [
    "layer = WebGLTileLayer(source=source)\n",
    "layer.model_dump()"
   ]
  },
  {
   "cell_type": "code",
   "execution_count": 8,
   "id": "7ad0cc6a-c508-44b6-83d1-8f03eb6a7e72",
   "metadata": {},
   "outputs": [
    {
     "data": {
      "text/plain": [
       "{'viewOptions': {'center': (0, 0), 'zoom': 0},\n",
       " 'layers': [{'id': 'osm', 'source': {'@@type': 'OSM'}, '@@type': 'TileLayer'}]}"
      ]
     },
     "execution_count": 8,
     "metadata": {},
     "output_type": "execute_result"
    }
   ],
   "source": [
    "m = MapWidget()\n",
    "m.map_options"
   ]
  },
  {
   "cell_type": "code",
   "execution_count": 9,
   "id": "4241d0b7-ab89-4cbd-a60b-988b6896bbd7",
   "metadata": {},
   "outputs": [
    {
     "data": {
      "application/vnd.jupyter.widget-view+json": {
       "model_id": "cd289b72e61b403ca446bb082e6143f0",
       "version_major": 2,
       "version_minor": 1
      },
      "text/plain": [
       "MapWidget(height='400px', map_options={'viewOptions': {'center': (0, 0), 'zoom': 0}, 'layers': [{'id': 'osm', …"
      ]
     },
     "execution_count": 9,
     "metadata": {},
     "output_type": "execute_result"
    }
   ],
   "source": [
    "m"
   ]
  },
  {
   "cell_type": "code",
   "execution_count": 7,
   "id": "8ca96e77-dbad-4958-8bac-4b92cbd1acbb",
   "metadata": {},
   "outputs": [],
   "source": [
    "m.add_layer(layer)"
   ]
  },
  {
   "cell_type": "code",
   "execution_count": 6,
   "id": "e80b179d-9ce6-410c-b28b-9d232e478685",
   "metadata": {},
   "outputs": [],
   "source": [
    "m.remove_layer(\"osm\")"
   ]
  },
  {
   "cell_type": "code",
   "execution_count": 10,
   "id": "b7dfdd78-ec19-4e72-9d82-3ed96fce30d3",
   "metadata": {},
   "outputs": [
    {
     "data": {
      "text/plain": [
       "{'id': 'populated-places',\n",
       " 'source': {'url': 'https://openlayers.org/data/vector/populated-places.json',\n",
       "  'format': {'@@type': 'GeoJSON'},\n",
       "  '@@type': 'VectorSource'},\n",
       " 'style': {'circle-fill-color': 'red',\n",
       "  'circle-stroke-color': 'yellow',\n",
       "  'circle-stroke-width': 0.75,\n",
       "  'circle-radius': 5},\n",
       " '@@type': 'WebGLVectorLayer'}"
      ]
     },
     "execution_count": 10,
     "metadata": {},
     "output_type": "execute_result"
    }
   ],
   "source": [
    "vector_layer = WebGLVectorLayer(\n",
    "    id=\"populated-places\",\n",
    "    source=VectorSource(url=\"https://openlayers.org/data/vector/populated-places.json\",\n",
    "                        # format = {\"@@type\": \"KML\"}\n",
    "                       ),\n",
    "    style={\n",
    "        \"circle-fill-color\": \"red\",\n",
    "        \"circle-stroke-color\": \"yellow\",\n",
    "        \"circle-stroke-width\": 0.75,\n",
    "        \"circle-radius\": 5\n",
    "    }\n",
    ")\n",
    "vector_layer.model_dump()"
   ]
  },
  {
   "cell_type": "code",
   "execution_count": 13,
   "id": "e7c33cde-06ff-4b50-be93-f049c0a4ab90",
   "metadata": {},
   "outputs": [],
   "source": [
    "m.add_layer(vector_layer)"
   ]
  },
  {
   "cell_type": "code",
   "execution_count": 12,
   "id": "760e2fed-21f4-48ea-b18c-c3335ed0b1f6",
   "metadata": {},
   "outputs": [],
   "source": [
    "m.remove_layer(\"populated-places\")"
   ]
  },
  {
   "cell_type": "code",
   "execution_count": 20,
   "id": "a764abe9-9ed9-4983-af27-ea5ae744e97a",
   "metadata": {},
   "outputs": [
    {
     "data": {
      "text/plain": [
       "{'sources': [{'url': 'https://sentinel-cogs.s3.us-west-2.amazonaws.com/sentinel-s2-l2a-cogs/36/Q/WD/2020/7/S2A_36QWD_20200701_0_L2A/TCI.tif'}],\n",
       " '@@type': 'GeoTIFFSource'}"
      ]
     },
     "execution_count": 20,
     "metadata": {},
     "output_type": "execute_result"
    }
   ],
   "source": [
    "gts = GeoTIFFSource(**{\n",
    "  \"sources\": [\n",
    "    {\n",
    "      \"url\": 'https://sentinel-cogs.s3.us-west-2.amazonaws.com/sentinel-s2-l2a-cogs/36/Q/WD/2020/7/S2A_36QWD_20200701_0_L2A/TCI.tif',\n",
    "    },\n",
    "  ],\n",
    "})\n",
    "gts.model_dump()"
   ]
  },
  {
   "cell_type": "code",
   "execution_count": 4,
   "id": "a873206b-ea50-4429-bac6-3c2f2e78b13a",
   "metadata": {},
   "outputs": [
    {
     "data": {
      "text/plain": [
       "{'id': 'c932c990-a7dd-41e7-98dc-a5e22b1f2bdc',\n",
       " 'source': {'sources': [{'url': 'https://sentinel-cogs.s3.us-west-2.amazonaws.com/sentinel-s2-l2a-cogs/36/Q/WD/2020/7/S2A_36QWD_20200701_0_L2A/TCI.tif'}],\n",
       "  '@@type': 'GeoTIFFSource'},\n",
       " 'opacity': 0.5,\n",
       " '@@type': 'WebGLTileLayer'}"
      ]
     },
     "execution_count": 4,
     "metadata": {},
     "output_type": "execute_result"
    }
   ],
   "source": [
    "layer_cog = WebGLTileLayer(\n",
    "    opacity=0.5,\n",
    "    source=GeoTIFFSource(\n",
    "        sources=[\n",
    "            dict(url=\"https://sentinel-cogs.s3.us-west-2.amazonaws.com/sentinel-s2-l2a-cogs/36/Q/WD/2020/7/S2A_36QWD_20200701_0_L2A/TCI.tif\")\n",
    "        ]\n",
    "    )\n",
    ")\n",
    "layer_cog.model_dump()"
   ]
  },
  {
   "cell_type": "code",
   "execution_count": 5,
   "id": "88afc1ab-8703-4274-bb45-c077442b05fe",
   "metadata": {},
   "outputs": [],
   "source": [
    "m.add_layer(layer_cog)"
   ]
  },
  {
   "cell_type": "code",
   "execution_count": 10,
   "id": "cd30ee6a-19aa-4e4b-adcb-d62753900397",
   "metadata": {},
   "outputs": [],
   "source": [
    "m.add_layer(layer)"
   ]
  },
  {
   "cell_type": "code",
   "execution_count": 18,
   "id": "7b503c6b-2e65-42c2-a9b7-ab4ba5b03636",
   "metadata": {},
   "outputs": [],
   "source": [
    "m.remove_layer(\"a0ccb9af-caa2-447f-8a78-5472a940af9c\")"
   ]
  },
  {
   "cell_type": "code",
   "execution_count": 14,
   "id": "e5504daa-5247-4639-bd3f-3eeef7f21ef2",
   "metadata": {},
   "outputs": [
    {
     "data": {
      "text/plain": [
       "{'center': [2277691.9989565676, 4319146.43440363],\n",
       " 'projection': 'EPSG:3857',\n",
       " 'zoom': 2.3511503777393847,\n",
       " 'lnglat': [33.90658774726085, 19.582580137237215]}"
      ]
     },
     "execution_count": 14,
     "metadata": {},
     "output_type": "execute_result"
    }
   ],
   "source": [
    "m.map_clicked"
   ]
  },
  {
   "cell_type": "code",
   "execution_count": null,
   "id": "256ce21f-d81c-4d9a-a709-401ce0041366",
   "metadata": {},
   "outputs": [],
   "source": []
  }
 ],
 "metadata": {
  "kernelspec": {
   "display_name": ".venv",
   "language": "python",
   "name": "python3"
  },
  "language_info": {
   "codemirror_mode": {
    "name": "ipython",
    "version": 3
   },
   "file_extension": ".py",
   "mimetype": "text/x-python",
   "name": "python",
   "nbconvert_exporter": "python",
   "pygments_lexer": "ipython3",
   "version": "3.11.11"
  }
 },
 "nbformat": 4,
 "nbformat_minor": 5
}
