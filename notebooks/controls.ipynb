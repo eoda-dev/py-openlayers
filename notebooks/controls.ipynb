{
 "cells": [
  {
   "cell_type": "code",
   "execution_count": 1,
   "id": "ff7282e3-c751-4c5d-a941-212364da036b",
   "metadata": {},
   "outputs": [],
   "source": [
    "import openlayers as ol\n",
    "# from openlayers.anywidget import MapWidget, View\n",
    "# from openlayers.controls import ZoomSliderControl, MousePositionControl"
   ]
  },
  {
   "cell_type": "code",
   "execution_count": 2,
   "id": "c92a180c-c2b0-4db5-80b1-faec7c16007a",
   "metadata": {},
   "outputs": [],
   "source": [
    "controls = [\n",
    "    ol.ZoomSliderControl(),\n",
    "    ol.MousePositionControl()\n",
    "]"
   ]
  },
  {
   "cell_type": "code",
   "execution_count": 3,
   "id": "a77c6be9-2243-4a97-8785-b7ad15f33923",
   "metadata": {},
   "outputs": [],
   "source": [
    "m = ol.MapWidget(controls=controls)"
   ]
  },
  {
   "cell_type": "code",
   "execution_count": 4,
   "id": "cd826921-0dd1-4a9f-ad22-7bd9c57330ac",
   "metadata": {},
   "outputs": [
    {
     "data": {
      "text/plain": [
       "{'view': {'center': (0.0, 0.0),\n",
       "  'zoom': 0,\n",
       "  'projection': 'EPSG:3857',\n",
       "  '@@type': 'View'},\n",
       " 'controls': [{'id': 'a2de80b1d5', '@@type': 'ZoomSliderControl'},\n",
       "  {'id': '6f6a74c0e5', '@@type': 'MousePositionControl'}],\n",
       " 'layers': [{'id': 'osm',\n",
       "   'source': {'@@type': 'OSM'},\n",
       "   'opacity': 1.0,\n",
       "   'visible': True,\n",
       "   '@@type': 'TileLayer'}]}"
      ]
     },
     "execution_count": 4,
     "metadata": {},
     "output_type": "execute_result"
    }
   ],
   "source": [
    "# m.map_options[\"layers\"] = None\n",
    "m.map_options"
   ]
  },
  {
   "cell_type": "code",
   "execution_count": 5,
   "id": "f879eb8a-3cdf-4b1d-8295-849e8e79d479",
   "metadata": {},
   "outputs": [
    {
     "data": {
      "application/vnd.jupyter.widget-view+json": {
       "model_id": "d647849f57074c24966993ac117d30ea",
       "version_major": 2,
       "version_minor": 1
      },
      "text/plain": [
       "MapWidget(height='400px', map_options={'view': {'center': (0.0, 0.0), 'zoom': 0, 'projection': 'EPSG:3857', '@…"
      ]
     },
     "execution_count": 5,
     "metadata": {},
     "output_type": "execute_result"
    }
   ],
   "source": [
    "m"
   ]
  },
  {
   "cell_type": "code",
   "execution_count": null,
   "id": "4a9cefcc-dca0-48f7-89f4-a33956f77f32",
   "metadata": {},
   "outputs": [],
   "source": [
    "m.initial_view"
   ]
  },
  {
   "cell_type": "code",
   "execution_count": null,
   "id": "4062f78a-d8d2-4c26-87ac-3cd530cc7c5b",
   "metadata": {},
   "outputs": [],
   "source": [
    "m.trait_metadata"
   ]
  },
  {
   "cell_type": "code",
   "execution_count": null,
   "id": "1dffcd4d",
   "metadata": {},
   "outputs": [],
   "source": []
  }
 ],
 "metadata": {
  "kernelspec": {
   "display_name": ".venv",
   "language": "python",
   "name": "python3"
  },
  "language_info": {
   "codemirror_mode": {
    "name": "ipython",
    "version": 3
   },
   "file_extension": ".py",
   "mimetype": "text/x-python",
   "name": "python",
   "nbconvert_exporter": "python",
   "pygments_lexer": "ipython3",
   "version": "3.11.11"
  }
 },
 "nbformat": 4,
 "nbformat_minor": 5
}
