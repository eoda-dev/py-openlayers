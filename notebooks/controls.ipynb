{
 "cells": [
  {
   "cell_type": "code",
   "execution_count": 1,
   "id": "ff7282e3-c751-4c5d-a941-212364da036b",
   "metadata": {},
   "outputs": [],
   "source": [
    "from openlayers.anywidget import MapWidget, View\n",
    "from openlayers.controls import FullScreenControl, ScaleLineControl, ZoomSliderControl, MousePositionControl"
   ]
  },
  {
   "cell_type": "code",
   "execution_count": 2,
   "id": "c92a180c-c2b0-4db5-80b1-faec7c16007a",
   "metadata": {},
   "outputs": [],
   "source": [
    "controls = [\n",
    "    # FullScreenControl(),\n",
    "    # ScaleLineControl(bar=True, text=True, units=\"degrees\"),\n",
    "    ZoomSliderControl(),\n",
    "    MousePositionControl()\n",
    "    # dict(type=\"FullScreenControl\"),\n",
    "    # dict(type=\"ScaleLineControl\", options=dict(bar=True, text=True))\n",
    "]"
   ]
  },
  {
   "cell_type": "code",
   "execution_count": 3,
   "id": "a77c6be9-2243-4a97-8785-b7ad15f33923",
   "metadata": {},
   "outputs": [],
   "source": [
    "m = MapWidget(View(), layers=[], controls=controls)"
   ]
  },
  {
   "cell_type": "code",
   "execution_count": 4,
   "id": "cd826921-0dd1-4a9f-ad22-7bd9c57330ac",
   "metadata": {},
   "outputs": [
    {
     "data": {
      "text/plain": [
       "{'viewOptions': {'center': (0, 0), 'zoom': 0},\n",
       " 'controls': [{'type': 'ZoomSliderControl', 'options': {}},\n",
       "  {'type': 'MousePositionControl', 'options': {'projection': 'EPSG:4326'}}],\n",
       " 'layers': []}"
      ]
     },
     "execution_count": 4,
     "metadata": {},
     "output_type": "execute_result"
    }
   ],
   "source": [
    "# m.map_options[\"layers\"] = None\n",
    "m.map_options"
   ]
  },
  {
   "cell_type": "code",
   "execution_count": 5,
   "id": "f879eb8a-3cdf-4b1d-8295-849e8e79d479",
   "metadata": {},
   "outputs": [
    {
     "data": {
      "application/vnd.jupyter.widget-view+json": {
       "model_id": "a8892ce37f384c5e8d1b7a1c9f5753fe",
       "version_major": 2,
       "version_minor": 1
      },
      "text/plain": [
       "MapWidget(height='400px', map_options={'viewOptions': {'center': (0, 0), 'zoom': 0}, 'controls': [{'type': 'Zo…"
      ]
     },
     "execution_count": 5,
     "metadata": {},
     "output_type": "execute_result"
    }
   ],
   "source": [
    "m"
   ]
  },
  {
   "cell_type": "code",
   "execution_count": 6,
   "id": "4a9cefcc-dca0-48f7-89f4-a33956f77f32",
   "metadata": {},
   "outputs": [
    {
     "data": {
      "text/plain": [
       "{}"
      ]
     },
     "execution_count": 6,
     "metadata": {},
     "output_type": "execute_result"
    }
   ],
   "source": [
    "m.map_clicked"
   ]
  },
  {
   "cell_type": "code",
   "execution_count": null,
   "id": "4062f78a-d8d2-4c26-87ac-3cd530cc7c5b",
   "metadata": {},
   "outputs": [],
   "source": []
  }
 ],
 "metadata": {
  "kernelspec": {
   "display_name": "Python 3 (ipykernel)",
   "language": "python",
   "name": "python3"
  },
  "language_info": {
   "codemirror_mode": {
    "name": "ipython",
    "version": 3
   },
   "file_extension": ".py",
   "mimetype": "text/x-python",
   "name": "python",
   "nbconvert_exporter": "python",
   "pygments_lexer": "ipython3",
   "version": "3.11.11"
  }
 },
 "nbformat": 4,
 "nbformat_minor": 5
}
