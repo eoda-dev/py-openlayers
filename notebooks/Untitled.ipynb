{
 "cells": [
  {
   "cell_type": "code",
   "execution_count": 1,
   "id": "67d67e8f-532f-4bc9-a633-4caed4cf3cc5",
   "metadata": {},
   "outputs": [],
   "source": [
    "from openlayers.anywidget import MapWidget\n",
    "from openlayers.json_defs import ScaleLineControl"
   ]
  },
  {
   "cell_type": "code",
   "execution_count": 8,
   "id": "a2f7e9e3-b73d-4bca-9b6a-b6c73f23ccf0",
   "metadata": {},
   "outputs": [],
   "source": [
    "m = MapWidget(controls=[ScaleLineControl()])"
   ]
  },
  {
   "cell_type": "code",
   "execution_count": 9,
   "id": "b6d7b710-3501-4dfb-a32a-7684b527a614",
   "metadata": {},
   "outputs": [
    {
     "data": {
      "text/plain": [
       "{'viewOptions': {'center': (0, 0), 'zoom': 0},\n",
       " 'controls': [{'bar': False, 'text': False, '@@type': 'ScaleLineControl'}],\n",
       " 'layers': [{'source': {'@@type': 'OSM'}, '@@type': 'TileLayer'}]}"
      ]
     },
     "execution_count": 9,
     "metadata": {},
     "output_type": "execute_result"
    }
   ],
   "source": [
    "m.map_options"
   ]
  },
  {
   "cell_type": "code",
   "execution_count": 10,
   "id": "4d9948d7-b9fd-4606-a0db-ed1f59b17607",
   "metadata": {},
   "outputs": [
    {
     "data": {
      "application/vnd.jupyter.widget-view+json": {
       "model_id": "d4d7438c22104b95a5ed964369736e0d",
       "version_major": 2,
       "version_minor": 1
      },
      "text/plain": [
       "MapWidget(height='400px', map_options={'viewOptions': {'center': (0, 0), 'zoom': 0}, 'controls': [{'bar': Fals…"
      ]
     },
     "execution_count": 10,
     "metadata": {},
     "output_type": "execute_result"
    }
   ],
   "source": [
    "m"
   ]
  },
  {
   "cell_type": "code",
   "execution_count": 7,
   "id": "ea06faa1-2acf-45a2-b9f8-1a94692ff5ac",
   "metadata": {},
   "outputs": [],
   "source": [
    "m.add_call(\"addControl\", ScaleLineControl().model_dump())"
   ]
  },
  {
   "cell_type": "code",
   "execution_count": null,
   "id": "09084caf-93a1-4c6b-bf2b-a4e4f43811b6",
   "metadata": {},
   "outputs": [],
   "source": []
  }
 ],
 "metadata": {
  "kernelspec": {
   "display_name": "Python 3 (ipykernel)",
   "language": "python",
   "name": "python3"
  },
  "language_info": {
   "codemirror_mode": {
    "name": "ipython",
    "version": 3
   },
   "file_extension": ".py",
   "mimetype": "text/x-python",
   "name": "python",
   "nbconvert_exporter": "python",
   "pygments_lexer": "ipython3",
   "version": "3.11.11"
  }
 },
 "nbformat": 4,
 "nbformat_minor": 5
}
