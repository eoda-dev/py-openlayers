{
 "cells": [
  {
   "cell_type": "code",
   "execution_count": 1,
   "id": "0f2f22e3-ced2-4ade-85a9-8d240104f63f",
   "metadata": {},
   "outputs": [],
   "source": [
    "import openlayers as ol\n",
    "from openlayers.basemaps import BasemapLayer"
   ]
  },
  {
   "cell_type": "code",
   "execution_count": 2,
   "id": "d8e07548-02fc-4f10-a6d4-8aaaddac5835",
   "metadata": {},
   "outputs": [],
   "source": [
    "basemap = BasemapLayer.carto()\n",
    "# basemap.model_dump()"
   ]
  },
  {
   "cell_type": "code",
   "execution_count": 3,
   "id": "58821e15-137c-4f2b-9bb7-2c0fb4f464ec",
   "metadata": {},
   "outputs": [],
   "source": [
    "view = ol.View(center=(9.481544, 51.312801), zoom=12)\n",
    "# view.model_dump()"
   ]
  },
  {
   "cell_type": "code",
   "execution_count": 4,
   "id": "208f5240",
   "metadata": {},
   "outputs": [],
   "source": [
    "m = ol.MapWidget(view, layers=[basemap], controls=[ol.controls.ZoomSliderControl()])"
   ]
  },
  {
   "cell_type": "code",
   "execution_count": 5,
   "id": "9e061519",
   "metadata": {},
   "outputs": [
    {
     "data": {
      "application/vnd.jupyter.widget-view+json": {
       "model_id": "a745492caf154ef2ae3c8d43386174ed",
       "version_major": 2,
       "version_minor": 1
      },
      "text/plain": [
       "MapWidget(height='400px', map_options={'view': {'center': (9.481544, 51.312801), 'zoom': 12.0, 'projection': '…"
      ]
     },
     "execution_count": 5,
     "metadata": {},
     "output_type": "execute_result"
    }
   ],
   "source": [
    "m"
   ]
  },
  {
   "cell_type": "code",
   "execution_count": 12,
   "id": "705018de-ed98-4e03-9db6-5ddf35011282",
   "metadata": {},
   "outputs": [
    {
     "data": {
      "text/plain": [
       "{'layers': [{'id': 'carto-dark-all', 'type': 'TileLayer'},\n",
       "  {'id': '8554b6c6-07b0-4016-a100-b03b889cf7d6', 'type': 'WebGLVectorLayer'}],\n",
       " 'controls': [{'id': '09cfeacc-b435-473c-8dc2-5624b8fafe59',\n",
       "   'type': 'ZoomSliderControl'},\n",
       "  {'id': 'MyNiceCtrl', 'type': 'OverviewMapControl'}]}"
      ]
     },
     "execution_count": 12,
     "metadata": {},
     "output_type": "execute_result"
    }
   ],
   "source": [
    "m.map_metadata"
   ]
  },
  {
   "cell_type": "code",
   "execution_count": 14,
   "id": "8bc59002-4b1a-4caa-9b67-a64cd83a60c1",
   "metadata": {},
   "outputs": [
    {
     "data": {
      "text/plain": [
       "{'center': [873750.6090347767, 9696804.421408108],\n",
       " 'projection': 'EPSG:3857',\n",
       " 'zoom': 3.573608880492306,\n",
       " 'center_lonlat': [7.849035266046803, 65.33362816204604]}"
      ]
     },
     "execution_count": 14,
     "metadata": {},
     "output_type": "execute_result"
    }
   ],
   "source": [
    "m.map_view_state"
   ]
  },
  {
   "cell_type": "code",
   "execution_count": 7,
   "id": "005ffbf7",
   "metadata": {},
   "outputs": [],
   "source": [
    "ctrl_id = \"MyNiceCtrl\"\n",
    "m.add_control(ol.controls.OverviewMapControl(id=ctrl_id))\n",
    "# m.remove_control(control_id=ctrl_id)"
   ]
  },
  {
   "cell_type": "code",
   "execution_count": 9,
   "id": "9191dc35",
   "metadata": {},
   "outputs": [],
   "source": [
    "m.remove_layer(layer_id=\"carto-dark_all\")"
   ]
  },
  {
   "cell_type": "code",
   "execution_count": 7,
   "id": "ea76d744",
   "metadata": {},
   "outputs": [],
   "source": [
    "# m.add_layer(BasemapLayer.carto(\"light_all\"))\n",
    "m.remove_layer(\"carto-light-all\")"
   ]
  },
  {
   "cell_type": "code",
   "execution_count": 6,
   "id": "1aa4155d",
   "metadata": {},
   "outputs": [],
   "source": [
    "url = \"https://openlayers.org/en/v4.6.5/examples/data/geojson/countries.geojson\"\n",
    "countries = ol.WebGLVectorLayer(source=ol.VectorSource(url=url))"
   ]
  },
  {
   "cell_type": "code",
   "execution_count": 7,
   "id": "2e7cee1d",
   "metadata": {},
   "outputs": [],
   "source": [
    "m.add_layer(countries)\n",
    "\n",
    "# m.remove_layer(countries.id)\n",
    "# m.add_tooltip()\n",
    "#import geopandas as gpd\n",
    "#from openlayers.geopandas import OLGeoDataFrame"
   ]
  },
  {
   "cell_type": "code",
   "execution_count": null,
   "id": "2c00cb3f",
   "metadata": {},
   "outputs": [],
   "source": [
    "# gdf = gpd.GeoDataFrame.from_file(\"https://openlayers.org/data/vector/populated-places.json\")\n",
    "#gdf = OLGeoDataFrame.from_file(\"https://openlayers.org/data/vector/populated-places.json\")\n",
    "#gdf.ol.explore()"
   ]
  },
  {
   "cell_type": "code",
   "execution_count": null,
   "id": "75ea7643",
   "metadata": {},
   "outputs": [],
   "source": [
    "#gdf.ol.explore(style=FlatStyle(icon_src=\"https://openlayers.org/en/latest/examples/data/icon.png\", icon_color=\"red\"))"
   ]
  },
  {
   "cell_type": "code",
   "execution_count": null,
   "id": "46e4d046",
   "metadata": {},
   "outputs": [],
   "source": [
    "#from openlayers.geopandas import OLAccessor"
   ]
  },
  {
   "cell_type": "code",
   "execution_count": null,
   "id": "af24c60e",
   "metadata": {},
   "outputs": [],
   "source": [
    "#df = OLAccessor(gdf)"
   ]
  },
  {
   "cell_type": "code",
   "execution_count": null,
   "id": "a86d2c38",
   "metadata": {},
   "outputs": [],
   "source": [
    "#df.explore()"
   ]
  }
 ],
 "metadata": {
  "kernelspec": {
   "display_name": "Python 3 (ipykernel)",
   "language": "python",
   "name": "python3"
  },
  "language_info": {
   "codemirror_mode": {
    "name": "ipython",
    "version": 3
   },
   "file_extension": ".py",
   "mimetype": "text/x-python",
   "name": "python",
   "nbconvert_exporter": "python",
   "pygments_lexer": "ipython3",
   "version": "3.11.11"
  }
 },
 "nbformat": 4,
 "nbformat_minor": 5
}
