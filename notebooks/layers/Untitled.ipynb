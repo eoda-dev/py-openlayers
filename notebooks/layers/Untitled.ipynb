{
 "cells": [
  {
   "cell_type": "code",
   "execution_count": 1,
   "id": "f6159a05-ce33-4ab2-b075-044e61ab9514",
   "metadata": {},
   "outputs": [],
   "source": [
    "import geopandas as gpd\n",
    "\n",
    "# from openlayers.anywidget import MapWidget, View\n",
    "import openlayers as ol\n",
    "# from openlayers.json_defs import VectorLayer, VectorSource, WebGLVectorLayer"
   ]
  },
  {
   "cell_type": "code",
   "execution_count": 2,
   "id": "a0ddec1d-6418-4913-8ca8-7511b16f2ba9",
   "metadata": {},
   "outputs": [],
   "source": [
    "url = \"https://openlayers.org/en/v4.6.5/examples/data/geojson/countries.geojson\""
   ]
  },
  {
   "cell_type": "code",
   "execution_count": 3,
   "id": "66dca5d9-9aeb-4aac-9192-c2212c7896a9",
   "metadata": {},
   "outputs": [],
   "source": [
    "gdf = gpd.read_file(url)"
   ]
  },
  {
   "cell_type": "code",
   "execution_count": 4,
   "id": "e8dd1dba-0691-496a-9d00-ef9af37ac5a7",
   "metadata": {},
   "outputs": [
    {
     "data": {
      "text/plain": [
       "'EPSG:4326'"
      ]
     },
     "execution_count": 4,
     "metadata": {},
     "output_type": "execute_result"
    }
   ],
   "source": [
    "str(gdf.crs)"
   ]
  },
  {
   "cell_type": "code",
   "execution_count": 5,
   "id": "d89002c7-b977-45fa-9cc0-4bd21c94e26d",
   "metadata": {},
   "outputs": [],
   "source": [
    "m = gdf.ol.explore()"
   ]
  },
  {
   "cell_type": "code",
   "execution_count": 6,
   "id": "6e1a8778-5b94-41c6-9936-dd2654d83eb0",
   "metadata": {},
   "outputs": [
    {
     "data": {
      "application/vnd.jupyter.widget-view+json": {
       "model_id": "03d18978d01343d58f682d78d6d342d2",
       "version_major": 2,
       "version_minor": 1
      },
      "text/plain": [
       "MapWidget(calls=[{'method': 'addLayer', 'args': ({'id': 'b2e9bd13-b5f8-4fc5-bf1a-a722b2c2bfe9', 'source': {'@@…"
      ]
     },
     "execution_count": 6,
     "metadata": {},
     "output_type": "execute_result"
    }
   ],
   "source": [
    "# m.map_options\n",
    "m"
   ]
  },
  {
   "cell_type": "code",
   "execution_count": 38,
   "id": "f69816db-ee91-4d54-b6e2-edd3004a2ab1",
   "metadata": {},
   "outputs": [
    {
     "data": {
      "text/plain": [
       "{'stroke-color': 'steelblue', 'stroke-width': 1, 'circle-color': 'green'}"
      ]
     },
     "execution_count": 38,
     "metadata": {},
     "output_type": "execute_result"
    }
   ],
   "source": [
    "style={ \"stroke-color\": \"steelblue\",\n",
    "        'stroke-width': 1,\n",
    "        \"circle-color\": \"green\"\n",
    "      }\n",
    "style"
   ]
  },
  {
   "cell_type": "markdown",
   "id": "897750f3-535f-4a49-85c5-a8ef67abd527",
   "metadata": {},
   "source": [
    "m"
   ]
  },
  {
   "cell_type": "code",
   "execution_count": 46,
   "id": "fa2a36a6-2261-4e6b-8612-cb2c18ebdd5c",
   "metadata": {},
   "outputs": [
    {
     "data": {
      "text/plain": [
       "{'id': 'd48666a9-2057-4d84-bcd8-39c57f0fdfbd',\n",
       " 'style': {'stroke-color': 'steelblue',\n",
       "  'stroke-width': 1,\n",
       "  'circle-color': 'green'},\n",
       " '@@type': 'WebGLVectorLayer'}"
      ]
     },
     "execution_count": 46,
     "metadata": {},
     "output_type": "execute_result"
    }
   ],
   "source": [
    "layer = WebGLVectorLayer(\n",
    "    style=style,\n",
    "    source=VectorSource(\n",
    "        geojson=d\n",
    "        #url=url\n",
    "    )\n",
    ")\n",
    "layer.model_dump()"
   ]
  },
  {
   "cell_type": "code",
   "execution_count": 52,
   "id": "072a970e-a074-4902-ab4a-01e731fc6e41",
   "metadata": {},
   "outputs": [],
   "source": [
    "m = MapWidget(layers=[])"
   ]
  },
  {
   "cell_type": "code",
   "execution_count": 53,
   "id": "793c5142-e8ab-4edb-80ab-e5f0d7b423d7",
   "metadata": {},
   "outputs": [],
   "source": [
    "m.add_layer(layer)"
   ]
  },
  {
   "cell_type": "code",
   "execution_count": 54,
   "id": "644a3cb2-6f8c-4432-960b-d90568c5f044",
   "metadata": {},
   "outputs": [
    {
     "data": {
      "application/vnd.jupyter.widget-view+json": {
       "model_id": "789f877f7d2045ff962159b48c2b5b36",
       "version_major": 2,
       "version_minor": 1
      },
      "text/plain": [
       "MapWidget(calls=[{'method': 'addLayer', 'args': ({'id': 'd48666a9-2057-4d84-bcd8-39c57f0fdfbd', 'source': {'@@…"
      ]
     },
     "execution_count": 54,
     "metadata": {},
     "output_type": "execute_result"
    }
   ],
   "source": [
    "m"
   ]
  },
  {
   "cell_type": "code",
   "execution_count": 44,
   "id": "67bf339e-0ff4-4b55-909a-843053257701",
   "metadata": {},
   "outputs": [],
   "source": [
    "d = ol.gdf_to_geojson(gdf)"
   ]
  },
  {
   "cell_type": "code",
   "execution_count": 49,
   "id": "8d9d0d39-f1c3-45c5-bf02-bc1b81a5a807",
   "metadata": {},
   "outputs": [
    {
     "data": {
      "text/plain": [
       "dict_keys(['type', 'features'])"
      ]
     },
     "execution_count": 49,
     "metadata": {},
     "output_type": "execute_result"
    }
   ],
   "source": [
    "d.keys()"
   ]
  },
  {
   "cell_type": "code",
   "execution_count": null,
   "id": "d6fdeb30-fadb-4c59-ac60-1f273f4f6c42",
   "metadata": {},
   "outputs": [],
   "source": []
  }
 ],
 "metadata": {
  "kernelspec": {
   "display_name": "Python 3 (ipykernel)",
   "language": "python",
   "name": "python3"
  },
  "language_info": {
   "codemirror_mode": {
    "name": "ipython",
    "version": 3
   },
   "file_extension": ".py",
   "mimetype": "text/x-python",
   "name": "python",
   "nbconvert_exporter": "python",
   "pygments_lexer": "ipython3",
   "version": "3.11.11"
  }
 },
 "nbformat": 4,
 "nbformat_minor": 5
}
