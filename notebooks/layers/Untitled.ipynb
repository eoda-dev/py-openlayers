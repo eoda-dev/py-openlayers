{
 "cells": [
  {
   "cell_type": "code",
   "execution_count": 5,
   "id": "0f2f22e3-ced2-4ade-85a9-8d240104f63f",
   "metadata": {},
   "outputs": [],
   "source": [
    "import openlayers as ol\n",
    "from openlayers.anywidget import map_widget"
   ]
  },
  {
   "cell_type": "code",
   "execution_count": 4,
   "id": "d8e07548-02fc-4f10-a6d4-8aaaddac5835",
   "metadata": {},
   "outputs": [],
   "source": [
    "m = ol.MapWidget(controls=[ol.controls.ZoomSliderControl()])"
   ]
  },
  {
   "cell_type": "code",
   "execution_count": 3,
   "id": "58821e15-137c-4f2b-9bb7-2c0fb4f464ec",
   "metadata": {},
   "outputs": [
    {
     "data": {
      "application/vnd.jupyter.widget-view+json": {
       "model_id": "d372ec9bf195404faf962f1991dd3157",
       "version_major": 2,
       "version_minor": 1
      },
      "text/plain": [
       "MapWidget(height='400px', map_options={'viewOptions': {'center': (0, 0), 'zoom': 0, 'projection': 'EPSG:3857'}…"
      ]
     },
     "execution_count": 3,
     "metadata": {},
     "output_type": "execute_result"
    }
   ],
   "source": [
    "m = map_widget()"
   ]
  },
  {
   "cell_type": "code",
   "execution_count": null,
   "id": "208f5240",
   "metadata": {},
   "outputs": [],
   "source": []
  },
  {
   "cell_type": "code",
   "execution_count": null,
   "id": "9e061519",
   "metadata": {},
   "outputs": [],
   "source": []
  }
 ],
 "metadata": {
  "kernelspec": {
   "display_name": "Python 3 (ipykernel)",
   "language": "python",
   "name": "python3"
  },
  "language_info": {
   "codemirror_mode": {
    "name": "ipython",
    "version": 3
   },
   "file_extension": ".py",
   "mimetype": "text/x-python",
   "name": "python",
   "nbconvert_exporter": "python",
   "pygments_lexer": "ipython3",
   "version": "3.11.11"
  }
 },
 "nbformat": 4,
 "nbformat_minor": 5
}
