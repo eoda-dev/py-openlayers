{
 "cells": [
  {
   "cell_type": "code",
   "execution_count": 1,
   "id": "9f6d5dd5-c3b2-43d6-a858-877f4c99b2c7",
   "metadata": {},
   "outputs": [],
   "source": [
    "import requests as req\n",
    "from openlayers.anywidget import MapWidget\n",
    "from openlayers.json_defs import VectorSource, WebGLVectorLayer, VectorLayer"
   ]
  },
  {
   "cell_type": "code",
   "execution_count": 2,
   "id": "f3f231a5-2a7d-48b6-bc4d-af1de5872887",
   "metadata": {},
   "outputs": [],
   "source": [
    "url = \"https://openlayers.org/en/v4.6.5/examples/data/geojson/countries.geojson\""
   ]
  },
  {
   "cell_type": "code",
   "execution_count": 3,
   "id": "b60678db-bd5b-4807-9bb3-168ed15377db",
   "metadata": {},
   "outputs": [],
   "source": [
    "source = VectorSource(url=url)"
   ]
  },
  {
   "cell_type": "code",
   "execution_count": 11,
   "id": "edbe5af5-c44d-4714-9713-fbb9c7f2c3b7",
   "metadata": {},
   "outputs": [
    {
     "data": {
      "text/plain": [
       "{'id': 'countries',\n",
       " 'source': {'url': 'https://openlayers.org/en/v4.6.5/examples/data/geojson/countries.geojson',\n",
       "  'format': {'@@type': 'GeoJSON'},\n",
       "  '@@type': 'VectorSource'},\n",
       " 'background': 'yellow',\n",
       " '@@type': 'VectorLayer'}"
      ]
     },
     "execution_count": 11,
     "metadata": {},
     "output_type": "execute_result"
    }
   ],
   "source": [
    "countries_layer = VectorLayer(\n",
    "    id=\"countries\",\n",
    "    background=\"yellow\",\n",
    "    source=source\n",
    ")\n",
    "countries_layer.model_dump()"
   ]
  },
  {
   "cell_type": "code",
   "execution_count": 4,
   "id": "521d916d-d074-41f1-ba18-cde008adcfc2",
   "metadata": {},
   "outputs": [],
   "source": [
    "m = MapWidget(layers=[])"
   ]
  },
  {
   "cell_type": "code",
   "execution_count": 5,
   "id": "2a39917d-e1a0-4ef4-a922-b31e359130bf",
   "metadata": {},
   "outputs": [
    {
     "data": {
      "application/vnd.jupyter.widget-view+json": {
       "model_id": "004bbf2f6a6a4e078acc23f5c8afa57b",
       "version_major": 2,
       "version_minor": 1
      },
      "text/plain": [
       "MapWidget(height='400px', map_options={'viewOptions': {'center': (0, 0), 'zoom': 0}, 'layers': []})"
      ]
     },
     "execution_count": 5,
     "metadata": {},
     "output_type": "execute_result"
    }
   ],
   "source": [
    "m"
   ]
  },
  {
   "cell_type": "code",
   "execution_count": 20,
   "id": "e770869d-8e77-4561-a6e2-ff1c00128cce",
   "metadata": {},
   "outputs": [],
   "source": [
    "m.add_layer(countries_layer)"
   ]
  },
  {
   "cell_type": "code",
   "execution_count": 7,
   "id": "79a45f24-4f96-427d-b088-27720b8803fc",
   "metadata": {},
   "outputs": [],
   "source": [
    "feature_collection = req.get(url).json()"
   ]
  },
  {
   "cell_type": "code",
   "execution_count": 18,
   "id": "a4ada789-116c-4b1d-be29-5d7b2989c6a4",
   "metadata": {},
   "outputs": [],
   "source": [
    "# feature_collection[\"features\"][0]"
   ]
  },
  {
   "cell_type": "code",
   "execution_count": 8,
   "id": "9646c0ed-125c-4880-8f53-dca071d1f711",
   "metadata": {},
   "outputs": [
    {
     "data": {
      "text/plain": [
       "{}"
      ]
     },
     "execution_count": 8,
     "metadata": {},
     "output_type": "execute_result"
    }
   ],
   "source": [
    "m.map_clicked"
   ]
  },
  {
   "cell_type": "code",
   "execution_count": 8,
   "id": "60bfaedb-f472-45dc-81ba-a70a4260272c",
   "metadata": {},
   "outputs": [],
   "source": [
    "countries_layer_feat = VectorLayer(\n",
    "    id=\"countries-feat\",\n",
    "    background=\"yellow\",\n",
    "    source=VectorSource(features=[feature_collection[\"features\"][0][\"geometry\"][\"coordinates\"]])\n",
    ")\n",
    "# countries_layer_feat.model_dump()"
   ]
  },
  {
   "cell_type": "code",
   "execution_count": 10,
   "id": "8311a584-eedf-4a89-b01e-faca7512a7ba",
   "metadata": {},
   "outputs": [],
   "source": [
    "m.add_layer(countries_layer_feat)"
   ]
  },
  {
   "cell_type": "code",
   "execution_count": 9,
   "id": "fd2ae79e-2499-4f82-8588-e47e51cef196",
   "metadata": {},
   "outputs": [],
   "source": [
    "# feature_collection[\"features\"][0][\"geometry\"][\"coordinates\"]"
   ]
  },
  {
   "cell_type": "code",
   "execution_count": null,
   "id": "905fa9ec-959f-4755-b006-ed20f2d24202",
   "metadata": {},
   "outputs": [],
   "source": []
  }
 ],
 "metadata": {
  "kernelspec": {
   "display_name": "Python 3 (ipykernel)",
   "language": "python",
   "name": "python3"
  },
  "language_info": {
   "codemirror_mode": {
    "name": "ipython",
    "version": 3
   },
   "file_extension": ".py",
   "mimetype": "text/x-python",
   "name": "python",
   "nbconvert_exporter": "python",
   "pygments_lexer": "ipython3",
   "version": "3.11.11"
  }
 },
 "nbformat": 4,
 "nbformat_minor": 5
}
