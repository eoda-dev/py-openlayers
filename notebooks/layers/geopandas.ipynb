{
 "cells": [
  {
   "cell_type": "code",
   "execution_count": 1,
   "id": "f6159a05-ce33-4ab2-b075-044e61ab9514",
   "metadata": {},
   "outputs": [],
   "source": [
    "import geopandas as gpd\n",
    "import openlayers as ol\n",
    "from openlayers.view import Projection"
   ]
  },
  {
   "cell_type": "code",
   "execution_count": 2,
   "id": "a0ddec1d-6418-4913-8ca8-7511b16f2ba9",
   "metadata": {},
   "outputs": [],
   "source": [
    "url = \"https://openlayers.org/en/v4.6.5/examples/data/geojson/countries.geojson\""
   ]
  },
  {
   "cell_type": "code",
   "execution_count": 3,
   "id": "66dca5d9-9aeb-4aac-9192-c2212c7896a9",
   "metadata": {},
   "outputs": [],
   "source": [
    "gdf = gpd.read_file(\"../data/countries.geojson\")"
   ]
  },
  {
   "cell_type": "code",
   "execution_count": 9,
   "id": "e8dd1dba-0691-496a-9d00-ef9af37ac5a7",
   "metadata": {},
   "outputs": [
    {
     "data": {
      "text/html": [
       "<div>\n",
       "<style scoped>\n",
       "    .dataframe tbody tr th:only-of-type {\n",
       "        vertical-align: middle;\n",
       "    }\n",
       "\n",
       "    .dataframe tbody tr th {\n",
       "        vertical-align: top;\n",
       "    }\n",
       "\n",
       "    .dataframe thead th {\n",
       "        text-align: right;\n",
       "    }\n",
       "</style>\n",
       "<table border=\"1\" class=\"dataframe\">\n",
       "  <thead>\n",
       "    <tr style=\"text-align: right;\">\n",
       "      <th></th>\n",
       "      <th>id</th>\n",
       "      <th>name</th>\n",
       "      <th>geometry</th>\n",
       "    </tr>\n",
       "  </thead>\n",
       "  <tbody>\n",
       "    <tr>\n",
       "      <th>0</th>\n",
       "      <td>AFG</td>\n",
       "      <td>Afghanistan</td>\n",
       "      <td>POLYGON ((6813956.979 4252578.033, 6927484.381...</td>\n",
       "    </tr>\n",
       "    <tr>\n",
       "      <th>1</th>\n",
       "      <td>AGO</td>\n",
       "      <td>Angola</td>\n",
       "      <td>MULTIPOLYGON (((1817460.783 -655427.478, 18449...</td>\n",
       "    </tr>\n",
       "    <tr>\n",
       "      <th>2</th>\n",
       "      <td>ALB</td>\n",
       "      <td>Albania</td>\n",
       "      <td>POLYGON ((2292095.811 5139344.213, 2277950.221...</td>\n",
       "    </tr>\n",
       "    <tr>\n",
       "      <th>3</th>\n",
       "      <td>ARE</td>\n",
       "      <td>United Arab Emirates</td>\n",
       "      <td>POLYGON ((5741805.79 2783351.65, 5761611.977 2...</td>\n",
       "    </tr>\n",
       "    <tr>\n",
       "      <th>4</th>\n",
       "      <td>ARG</td>\n",
       "      <td>Argentina</td>\n",
       "      <td>MULTIPOLYGON (((-7291426.647 -7400779.189, -73...</td>\n",
       "    </tr>\n",
       "    <tr>\n",
       "      <th>...</th>\n",
       "      <td>...</td>\n",
       "      <td>...</td>\n",
       "      <td>...</td>\n",
       "    </tr>\n",
       "    <tr>\n",
       "      <th>174</th>\n",
       "      <td>PSE</td>\n",
       "      <td>West Bank</td>\n",
       "      <td>POLYGON ((3956925.328 3815140.041, 3956879.353...</td>\n",
       "    </tr>\n",
       "    <tr>\n",
       "      <th>175</th>\n",
       "      <td>YEM</td>\n",
       "      <td>Yemen</td>\n",
       "      <td>POLYGON ((5912019.303 1880242.847, 5831494.457...</td>\n",
       "    </tr>\n",
       "    <tr>\n",
       "      <th>176</th>\n",
       "      <td>ZAF</td>\n",
       "      <td>South Africa</td>\n",
       "      <td>POLYGON ((3508901.781 -3408446.598, 3487145.49...</td>\n",
       "    </tr>\n",
       "    <tr>\n",
       "      <th>177</th>\n",
       "      <td>ZMB</td>\n",
       "      <td>Zambia</td>\n",
       "      <td>POLYGON ((3646756.944 -1032019.565, 3699301.19...</td>\n",
       "    </tr>\n",
       "    <tr>\n",
       "      <th>178</th>\n",
       "      <td>ZWE</td>\n",
       "      <td>Zimbabwe</td>\n",
       "      <td>POLYGON ((3472211.767 -2541748.92, 3413040.56 ...</td>\n",
       "    </tr>\n",
       "  </tbody>\n",
       "</table>\n",
       "<p>179 rows × 3 columns</p>\n",
       "</div>"
      ],
      "text/plain": [
       "      id                  name  \\\n",
       "0    AFG           Afghanistan   \n",
       "1    AGO                Angola   \n",
       "2    ALB               Albania   \n",
       "3    ARE  United Arab Emirates   \n",
       "4    ARG             Argentina   \n",
       "..   ...                   ...   \n",
       "174  PSE             West Bank   \n",
       "175  YEM                 Yemen   \n",
       "176  ZAF          South Africa   \n",
       "177  ZMB                Zambia   \n",
       "178  ZWE              Zimbabwe   \n",
       "\n",
       "                                              geometry  \n",
       "0    POLYGON ((6813956.979 4252578.033, 6927484.381...  \n",
       "1    MULTIPOLYGON (((1817460.783 -655427.478, 18449...  \n",
       "2    POLYGON ((2292095.811 5139344.213, 2277950.221...  \n",
       "3    POLYGON ((5741805.79 2783351.65, 5761611.977 2...  \n",
       "4    MULTIPOLYGON (((-7291426.647 -7400779.189, -73...  \n",
       "..                                                 ...  \n",
       "174  POLYGON ((3956925.328 3815140.041, 3956879.353...  \n",
       "175  POLYGON ((5912019.303 1880242.847, 5831494.457...  \n",
       "176  POLYGON ((3508901.781 -3408446.598, 3487145.49...  \n",
       "177  POLYGON ((3646756.944 -1032019.565, 3699301.19...  \n",
       "178  POLYGON ((3472211.767 -2541748.92, 3413040.56 ...  \n",
       "\n",
       "[179 rows x 3 columns]"
      ]
     },
     "execution_count": 9,
     "metadata": {},
     "output_type": "execute_result"
    }
   ],
   "source": [
    "gdf = gdf.to_crs(Projection.MERCATOR)\n",
    "gdf.crs\n",
    "gdf"
   ]
  },
  {
   "cell_type": "code",
   "execution_count": 10,
   "id": "d89002c7-b977-45fa-9cc0-4bd21c94e26d",
   "metadata": {},
   "outputs": [],
   "source": [
    "m = gdf.openlayers.explore(style={\"stroke-color\": \"green\", \"stroke-width\": 3})"
   ]
  },
  {
   "cell_type": "code",
   "execution_count": 11,
   "id": "6e1a8778-5b94-41c6-9936-dd2654d83eb0",
   "metadata": {},
   "outputs": [
    {
     "data": {
      "application/vnd.jupyter.widget-view+json": {
       "model_id": "e1ad413edd734a86924d446b703ba608",
       "version_major": 2,
       "version_minor": 1
      },
      "text/plain": [
       "MapWidget(calls=[{'method': 'addLayer', 'args': ({'id': 'geopandas', 'source': {'@@geojson': {'type': 'Feature…"
      ]
     },
     "execution_count": 11,
     "metadata": {},
     "output_type": "execute_result"
    }
   ],
   "source": [
    "# m.map_options\n",
    "m"
   ]
  },
  {
   "cell_type": "code",
   "execution_count": 7,
   "id": "f69816db-ee91-4d54-b6e2-edd3004a2ab1",
   "metadata": {},
   "outputs": [
    {
     "data": {
      "text/plain": [
       "{'stroke-color': 'steelblue', 'stroke-width': 3, 'circle-color': 'green'}"
      ]
     },
     "execution_count": 7,
     "metadata": {},
     "output_type": "execute_result"
    }
   ],
   "source": [
    "style={ \"stroke-color\": \"steelblue\",\n",
    "        'stroke-width': 3,\n",
    "        \"circle-color\": \"green\"\n",
    "      }\n",
    "style"
   ]
  },
  {
   "cell_type": "code",
   "execution_count": 10,
   "id": "846eb00d-f11b-4bda-a5ef-7d9de969816a",
   "metadata": {},
   "outputs": [
    {
     "name": "stdout",
     "output_type": "stream",
     "text": [
      "{'method': 'setStyle', 'args': ({'stroke-color': 'steelblue', 'stroke-width': 3, 'circle-color': 'green'},)}\n"
     ]
    }
   ],
   "source": [
    "#m.calls\n",
    "layer_id = \"geopandas\"\n",
    "# m.add_call(\"setLayerProperty\", layer_id, \"style\", style)\n",
    "# m.add_call(\"setLayerStyle\", layer_id, style)\n",
    "layer_call = dict(method=\"setStyle\", args=[style])\n",
    "# m.add_call(\"applyCallToLayer\", layer_id, layer_call)\n",
    "m.add_layer_call(layer_id, \"setStyle\", style)"
   ]
  },
  {
   "cell_type": "markdown",
   "id": "897750f3-535f-4a49-85c5-a8ef67abd527",
   "metadata": {},
   "source": [
    "# TEST"
   ]
  },
  {
   "cell_type": "code",
   "execution_count": 9,
   "id": "fa2a36a6-2261-4e6b-8612-cb2c18ebdd5c",
   "metadata": {},
   "outputs": [
    {
     "ename": "NameError",
     "evalue": "name 'WebGLVectorLayer' is not defined",
     "output_type": "error",
     "traceback": [
      "\u001b[31m---------------------------------------------------------------------------\u001b[39m",
      "\u001b[31mNameError\u001b[39m                                 Traceback (most recent call last)",
      "\u001b[36mCell\u001b[39m\u001b[36m \u001b[39m\u001b[32mIn[9]\u001b[39m\u001b[32m, line 1\u001b[39m\n\u001b[32m----> \u001b[39m\u001b[32m1\u001b[39m layer = \u001b[43mWebGLVectorLayer\u001b[49m(\n\u001b[32m      2\u001b[39m     style=style,\n\u001b[32m      3\u001b[39m     source=VectorSource(\n\u001b[32m      4\u001b[39m         geojson=d\n\u001b[32m      5\u001b[39m         \u001b[38;5;66;03m#url=url\u001b[39;00m\n\u001b[32m      6\u001b[39m     )\n\u001b[32m      7\u001b[39m )\n\u001b[32m      8\u001b[39m layer.model_dump()\n",
      "\u001b[31mNameError\u001b[39m: name 'WebGLVectorLayer' is not defined"
     ]
    }
   ],
   "source": [
    "layer = WebGLVectorLayer(\n",
    "    style=style,\n",
    "    source=VectorSource(\n",
    "        geojson=d\n",
    "        #url=url\n",
    "    )\n",
    ")\n",
    "layer.model_dump()"
   ]
  },
  {
   "cell_type": "code",
   "execution_count": 52,
   "id": "072a970e-a074-4902-ab4a-01e731fc6e41",
   "metadata": {},
   "outputs": [],
   "source": [
    "m = MapWidget(layers=[])"
   ]
  },
  {
   "cell_type": "code",
   "execution_count": 53,
   "id": "793c5142-e8ab-4edb-80ab-e5f0d7b423d7",
   "metadata": {},
   "outputs": [],
   "source": [
    "m.add_layer(layer)"
   ]
  },
  {
   "cell_type": "code",
   "execution_count": 54,
   "id": "644a3cb2-6f8c-4432-960b-d90568c5f044",
   "metadata": {},
   "outputs": [
    {
     "data": {
      "application/vnd.jupyter.widget-view+json": {
       "model_id": "789f877f7d2045ff962159b48c2b5b36",
       "version_major": 2,
       "version_minor": 1
      },
      "text/plain": [
       "MapWidget(calls=[{'method': 'addLayer', 'args': ({'id': 'd48666a9-2057-4d84-bcd8-39c57f0fdfbd', 'source': {'@@…"
      ]
     },
     "execution_count": 54,
     "metadata": {},
     "output_type": "execute_result"
    }
   ],
   "source": [
    "m"
   ]
  },
  {
   "cell_type": "code",
   "execution_count": 44,
   "id": "67bf339e-0ff4-4b55-909a-843053257701",
   "metadata": {},
   "outputs": [],
   "source": [
    "d = ol.gdf_to_geojson(gdf)"
   ]
  },
  {
   "cell_type": "code",
   "execution_count": 49,
   "id": "8d9d0d39-f1c3-45c5-bf02-bc1b81a5a807",
   "metadata": {},
   "outputs": [
    {
     "data": {
      "text/plain": [
       "dict_keys(['type', 'features'])"
      ]
     },
     "execution_count": 49,
     "metadata": {},
     "output_type": "execute_result"
    }
   ],
   "source": [
    "d.keys()"
   ]
  },
  {
   "cell_type": "code",
   "execution_count": null,
   "id": "d6fdeb30-fadb-4c59-ac60-1f273f4f6c42",
   "metadata": {},
   "outputs": [],
   "source": []
  }
 ],
 "metadata": {
  "kernelspec": {
   "display_name": "Python 3 (ipykernel)",
   "language": "python",
   "name": "python3"
  },
  "language_info": {
   "codemirror_mode": {
    "name": "ipython",
    "version": 3
   },
   "file_extension": ".py",
   "mimetype": "text/x-python",
   "name": "python",
   "nbconvert_exporter": "python",
   "pygments_lexer": "ipython3",
   "version": "3.11.11"
  }
 },
 "nbformat": 4,
 "nbformat_minor": 5
}
