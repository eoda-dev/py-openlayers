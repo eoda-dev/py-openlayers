{
 "cells": [
  {
   "cell_type": "code",
   "execution_count": 1,
   "id": "f6159a05-ce33-4ab2-b075-044e61ab9514",
   "metadata": {},
   "outputs": [],
   "source": [
    "# import geopandas as gpd\n",
    "import openlayers as ol\n",
    "# from openlayers.view import Projection"
   ]
  },
  {
   "cell_type": "code",
   "execution_count": null,
   "id": "a0ddec1d-6418-4913-8ca8-7511b16f2ba9",
   "metadata": {},
   "outputs": [],
   "source": [
    "# url = \"https://openlayers.org/en/v4.6.5/examples/data/geojson/countries.geojson\""
   ]
  },
  {
   "cell_type": "code",
   "execution_count": 2,
   "id": "66dca5d9-9aeb-4aac-9192-c2212c7896a9",
   "metadata": {},
   "outputs": [],
   "source": [
    "gdf = ol.GeoDataFrame.from_file(\"../data/countries.geojson\")"
   ]
  },
  {
   "cell_type": "code",
   "execution_count": 3,
   "id": "e8dd1dba-0691-496a-9d00-ef9af37ac5a7",
   "metadata": {},
   "outputs": [
    {
     "data": {
      "text/plain": [
       "<Geographic 2D CRS: EPSG:4326>\n",
       "Name: WGS 84\n",
       "Axis Info [ellipsoidal]:\n",
       "- Lat[north]: Geodetic latitude (degree)\n",
       "- Lon[east]: Geodetic longitude (degree)\n",
       "Area of Use:\n",
       "- name: World.\n",
       "- bounds: (-180.0, -90.0, 180.0, 90.0)\n",
       "Datum: World Geodetic System 1984 ensemble\n",
       "- Ellipsoid: WGS 84\n",
       "- Prime Meridian: Greenwich"
      ]
     },
     "execution_count": 3,
     "metadata": {},
     "output_type": "execute_result"
    }
   ],
   "source": [
    "# gdf = gdf.to_crs(Projection.MERCATOR)\n",
    "gdf.crs\n",
    "# gdf"
   ]
  },
  {
   "cell_type": "code",
   "execution_count": 4,
   "id": "d89002c7-b977-45fa-9cc0-4bd21c94e26d",
   "metadata": {},
   "outputs": [
    {
     "data": {
      "text/plain": [
       "{'center': (0.0, 0.0), 'zoom': 0, 'projection': 'EPSG:3857'}"
      ]
     },
     "execution_count": 4,
     "metadata": {},
     "output_type": "execute_result"
    }
   ],
   "source": [
    "# m = gdf.openlayers.explore(style={\"stroke-color\": \"green\", \"stroke-width\": 3})\n",
    "m = gdf.ol.explore(webgl=False)\n",
    "m.initial_view_state"
   ]
  },
  {
   "cell_type": "code",
   "execution_count": 5,
   "id": "6e1a8778-5b94-41c6-9936-dd2654d83eb0",
   "metadata": {},
   "outputs": [
    {
     "data": {
      "application/vnd.jupyter.widget-view+json": {
       "model_id": "abc4074859844aafa32c1274bfd5841f",
       "version_major": 2,
       "version_minor": 1
      },
      "text/plain": [
       "MapWidget(calls=[{'method': 'addLayer', 'args': ({'id': 'geopandas', 'source': {'@@geojson': {'type': 'Feature…"
      ]
     },
     "execution_count": 5,
     "metadata": {},
     "output_type": "execute_result"
    }
   ],
   "source": [
    "m"
   ]
  },
  {
   "cell_type": "code",
   "execution_count": null,
   "id": "66b75334",
   "metadata": {},
   "outputs": [],
   "source": [
    "m.add_layer(ol.basemaps.BasemapLayer.carto())\n",
    "# m.remove_layer(\"carto-dark-all\")"
   ]
  },
  {
   "cell_type": "code",
   "execution_count": 8,
   "id": "da76acb0",
   "metadata": {},
   "outputs": [
    {
     "data": {
      "text/plain": [
       "{'layers': [{'id': 'osm', 'type': 'TileLayer'},\n",
       "  {'id': 'geopandas', 'type': 'VectorLayer'},\n",
       "  {'id': 'carto-dark-all', 'type': 'TileLayer'}],\n",
       " 'controls': [{}, {}, {}]}"
      ]
     },
     "execution_count": 8,
     "metadata": {},
     "output_type": "execute_result"
    }
   ],
   "source": [
    "m.metadata"
   ]
  },
  {
   "cell_type": "code",
   "execution_count": null,
   "id": "f69816db-ee91-4d54-b6e2-edd3004a2ab1",
   "metadata": {},
   "outputs": [],
   "source": [
    "from openlayers.styles import FlatStyle\n",
    "\n",
    "style = FlatStyle(stroke_width=2, stroke_color=\"red\", fill_color=\"green\")\n",
    "style.model_dump()"
   ]
  },
  {
   "cell_type": "code",
   "execution_count": null,
   "id": "5acb39ef",
   "metadata": {},
   "outputs": [],
   "source": [
    "m.set_style(\"geopandas\", style)\n",
    "# m.add_layer_call(\"geopandas\", \"setStyle\", style.model_dump())\n",
    "# m.remove_layer(\"osm\")"
   ]
  },
  {
   "cell_type": "code",
   "execution_count": null,
   "id": "846eb00d-f11b-4bda-a5ef-7d9de969816a",
   "metadata": {},
   "outputs": [],
   "source": [
    "#m.calls\n",
    "layer_id = \"geopandas\"\n",
    "# m.add_call(\"setLayerProperty\", layer_id, \"style\", style)\n",
    "# m.add_call(\"setLayerStyle\", layer_id, style)\n",
    "layer_call = dict(method=\"setStyle\", args=[style])\n",
    "# m.add_call(\"applyCallToLayer\", layer_id, layer_call)\n",
    "m.add_layer_call(layer_id, \"setStyle\", style)"
   ]
  },
  {
   "cell_type": "markdown",
   "id": "897750f3-535f-4a49-85c5-a8ef67abd527",
   "metadata": {},
   "source": [
    "# TEST"
   ]
  },
  {
   "cell_type": "code",
   "execution_count": null,
   "id": "fa2a36a6-2261-4e6b-8612-cb2c18ebdd5c",
   "metadata": {},
   "outputs": [],
   "source": [
    "layer = WebGLVectorLayer(\n",
    "    style=style,\n",
    "    source=VectorSource(\n",
    "        geojson=d\n",
    "        #url=url\n",
    "    )\n",
    ")\n",
    "layer.model_dump()"
   ]
  },
  {
   "cell_type": "code",
   "execution_count": null,
   "id": "072a970e-a074-4902-ab4a-01e731fc6e41",
   "metadata": {},
   "outputs": [],
   "source": [
    "m = MapWidget(layers=[])"
   ]
  },
  {
   "cell_type": "code",
   "execution_count": null,
   "id": "793c5142-e8ab-4edb-80ab-e5f0d7b423d7",
   "metadata": {},
   "outputs": [],
   "source": [
    "m.add_layer(layer)"
   ]
  },
  {
   "cell_type": "code",
   "execution_count": null,
   "id": "644a3cb2-6f8c-4432-960b-d90568c5f044",
   "metadata": {},
   "outputs": [],
   "source": [
    "m"
   ]
  },
  {
   "cell_type": "code",
   "execution_count": null,
   "id": "67bf339e-0ff4-4b55-909a-843053257701",
   "metadata": {},
   "outputs": [],
   "source": [
    "d = ol.gdf_to_geojson(gdf)"
   ]
  },
  {
   "cell_type": "code",
   "execution_count": null,
   "id": "8d9d0d39-f1c3-45c5-bf02-bc1b81a5a807",
   "metadata": {},
   "outputs": [],
   "source": [
    "d.keys()"
   ]
  },
  {
   "cell_type": "code",
   "execution_count": null,
   "id": "d6fdeb30-fadb-4c59-ac60-1f273f4f6c42",
   "metadata": {},
   "outputs": [],
   "source": []
  }
 ],
 "metadata": {
  "kernelspec": {
   "display_name": ".venv",
   "language": "python",
   "name": "python3"
  },
  "language_info": {
   "codemirror_mode": {
    "name": "ipython",
    "version": 3
   },
   "file_extension": ".py",
   "mimetype": "text/x-python",
   "name": "python",
   "nbconvert_exporter": "python",
   "pygments_lexer": "ipython3",
   "version": "3.11.11"
  }
 },
 "nbformat": 4,
 "nbformat_minor": 5
}
