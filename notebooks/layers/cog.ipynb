{
 "cells": [
  {
   "cell_type": "code",
   "execution_count": 1,
   "id": "f4517359-1e16-4aa2-9605-e6a0a170a047",
   "metadata": {},
   "outputs": [],
   "source": [
    "from openlayers.anywidget import MapWidget\n",
    "from openlayers.json_defs import WebGLTileLayer, GeoTIFFSource"
   ]
  },
  {
   "cell_type": "code",
   "execution_count": 7,
   "id": "1a1075fa-2881-4a6b-b796-d4b7ee5c8fa4",
   "metadata": {},
   "outputs": [
    {
     "data": {
      "text/plain": [
       "{'id': 'cog',\n",
       " 'source': {'sources': [{'url': 'https://sentinel-cogs.s3.us-west-2.amazonaws.com/sentinel-s2-l2a-cogs/36/Q/WD/2020/7/S2A_36QWD_20200701_0_L2A/TCI.tif'}],\n",
       "  '@@type': 'GeoTIFFSource'},\n",
       " 'opacity': 0.5,\n",
       " '@@type': 'WebGLTileLayer'}"
      ]
     },
     "execution_count": 7,
     "metadata": {},
     "output_type": "execute_result"
    }
   ],
   "source": [
    "cog_layer = WebGLTileLayer(\n",
    "    id=\"cog\",\n",
    "    opacity=0.5,\n",
    "    source=GeoTIFFSource(\n",
    "        sources=[\n",
    "            dict(url=\"https://sentinel-cogs.s3.us-west-2.amazonaws.com/sentinel-s2-l2a-cogs/36/Q/WD/2020/7/S2A_36QWD_20200701_0_L2A/TCI.tif\")\n",
    "        ]\n",
    "    )\n",
    ")\n",
    "cog_layer.model_dump()"
   ]
  },
  {
   "cell_type": "code",
   "execution_count": 8,
   "id": "641ef013-9f00-4bd4-a455-28c610850f6e",
   "metadata": {},
   "outputs": [],
   "source": [
    "m = MapWidget(layers=[])\n"
   ]
  },
  {
   "cell_type": "code",
   "execution_count": 9,
   "id": "9a06ee44-3b04-427e-bd2f-455637681a6b",
   "metadata": {},
   "outputs": [
    {
     "data": {
      "application/vnd.jupyter.widget-view+json": {
       "model_id": "50be165fcc234f449310de9a09b18a11",
       "version_major": 2,
       "version_minor": 1
      },
      "text/plain": [
       "MapWidget(height='400px', map_options={'viewOptions': {'center': (0, 0), 'zoom': 0}, 'layers': []})"
      ]
     },
     "execution_count": 9,
     "metadata": {},
     "output_type": "execute_result"
    }
   ],
   "source": [
    "m"
   ]
  },
  {
   "cell_type": "code",
   "execution_count": 10,
   "id": "67b6a3be-9674-459c-82d6-036e75d5ceb5",
   "metadata": {},
   "outputs": [],
   "source": [
    "m.add_layer(cog_layer)"
   ]
  },
  {
   "cell_type": "code",
   "execution_count": 11,
   "id": "b6ecc468-b625-4487-a4eb-b9d773ab5af9",
   "metadata": {},
   "outputs": [],
   "source": [
    "m.add_call(\"setViewFromSource\", \"cog\")"
   ]
  },
  {
   "cell_type": "code",
   "execution_count": null,
   "id": "2ccdaf16-7737-4522-aab4-79e0e54fb12d",
   "metadata": {},
   "outputs": [],
   "source": []
  }
 ],
 "metadata": {
  "kernelspec": {
   "display_name": "Python 3 (ipykernel)",
   "language": "python",
   "name": "python3"
  },
  "language_info": {
   "codemirror_mode": {
    "name": "ipython",
    "version": 3
   },
   "file_extension": ".py",
   "mimetype": "text/x-python",
   "name": "python",
   "nbconvert_exporter": "python",
   "pygments_lexer": "ipython3",
   "version": "3.11.11"
  }
 },
 "nbformat": 4,
 "nbformat_minor": 5
}
