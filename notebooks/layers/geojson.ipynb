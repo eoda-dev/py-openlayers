{
 "cells": [
  {
   "cell_type": "code",
   "execution_count": null,
   "id": "60fa6ce0-0354-44d5-8250-eb84224c70ef",
   "metadata": {},
   "outputs": [],
   "source": [
    "from openlayers.anywidget import MapWidget\n",
    "from openlayers.json_defs import VectorSource, WebGLVectorLayer"
   ]
  },
  {
   "cell_type": "code",
   "execution_count": 3,
   "id": "8f37390a-9447-4dff-b8e1-6633ca089e7d",
   "metadata": {},
   "outputs": [],
   "source": [
    "url = \"https://openlayers.org/data/vector/populated-places.json\""
   ]
  },
  {
   "cell_type": "code",
   "execution_count": 4,
   "id": "ef931766-ee1b-4cfe-8eb5-d17199ecd9f4",
   "metadata": {},
   "outputs": [
    {
     "data": {
      "text/plain": [
       "{'id': 'populated-places',\n",
       " 'source': {'url': 'https://openlayers.org/data/vector/populated-places.json',\n",
       "  'format': {'@@type': 'GeoJSON'},\n",
       "  '@@type': 'VectorSource'},\n",
       " 'style': {'circle-fill-color': 'red',\n",
       "  'circle-stroke-color': 'yellow',\n",
       "  'circle-stroke-width': 0.75,\n",
       "  'circle-radius': 5},\n",
       " '@@type': 'WebGLVectorLayer'}"
      ]
     },
     "execution_count": 4,
     "metadata": {},
     "output_type": "execute_result"
    }
   ],
   "source": [
    "circle_layer = WebGLVectorLayer(\n",
    "    id=\"populated-places\",\n",
    "    source=VectorSource(\n",
    "        url=url\n",
    "    ),\n",
    "    style={\n",
    "        \"circle-fill-color\": \"red\",\n",
    "        \"circle-stroke-color\": \"yellow\",\n",
    "        \"circle-stroke-width\": 0.75,\n",
    "        \"circle-radius\": 5\n",
    "    }\n",
    ")\n",
    "circle_layer.model_dump()"
   ]
  },
  {
   "cell_type": "code",
   "execution_count": 6,
   "id": "28b6070b-3282-4435-b1d9-5d6e57dc5c74",
   "metadata": {},
   "outputs": [
    {
     "data": {
      "text/plain": [
       "{'viewOptions': {'center': (0, 0), 'zoom': 0},\n",
       " 'layers': [{'id': 'populated-places',\n",
       "   'source': {'url': 'https://openlayers.org/data/vector/populated-places.json',\n",
       "    'format': {'@@type': 'GeoJSON'},\n",
       "    '@@type': 'VectorSource'},\n",
       "   'style': {'circle-fill-color': 'red',\n",
       "    'circle-stroke-color': 'yellow',\n",
       "    'circle-stroke-width': 0.75,\n",
       "    'circle-radius': 5},\n",
       "   '@@type': 'WebGLVectorLayer'}]}"
      ]
     },
     "execution_count": 6,
     "metadata": {},
     "output_type": "execute_result"
    }
   ],
   "source": [
    "m = MapWidget(layers=[circle_layer])\n",
    "m.map_options"
   ]
  },
  {
   "cell_type": "code",
   "execution_count": 7,
   "id": "0160f0b9-c2c1-4480-b890-8dece1eaca1d",
   "metadata": {},
   "outputs": [
    {
     "data": {
      "application/vnd.jupyter.widget-view+json": {
       "model_id": "85f1c6e6430946f8a19861f8fbb31f2d",
       "version_major": 2,
       "version_minor": 1
      },
      "text/plain": [
       "MapWidget(height='400px', map_options={'viewOptions': {'center': (0, 0), 'zoom': 0}, 'layers': [{'id': 'popula…"
      ]
     },
     "execution_count": 7,
     "metadata": {},
     "output_type": "execute_result"
    }
   ],
   "source": [
    "m"
   ]
  },
  {
   "cell_type": "code",
   "execution_count": null,
   "id": "d8adafbf-d719-475d-aaba-e5c268784034",
   "metadata": {},
   "outputs": [],
   "source": []
  }
 ],
 "metadata": {
  "kernelspec": {
   "display_name": "Python 3 (ipykernel)",
   "language": "python",
   "name": "python3"
  },
  "language_info": {
   "codemirror_mode": {
    "name": "ipython",
    "version": 3
   },
   "file_extension": ".py",
   "mimetype": "text/x-python",
   "name": "python",
   "nbconvert_exporter": "python",
   "pygments_lexer": "ipython3",
   "version": "3.11.11"
  }
 },
 "nbformat": 4,
 "nbformat_minor": 5
}
