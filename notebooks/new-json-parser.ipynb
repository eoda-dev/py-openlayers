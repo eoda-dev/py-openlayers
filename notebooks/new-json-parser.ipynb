{
 "cells": [
  {
   "cell_type": "code",
   "execution_count": 1,
   "id": "42b6c0c2-ca21-4994-a2a7-dae417b14fe8",
   "metadata": {},
   "outputs": [],
   "source": [
    "from openlayers.anywidget import MapWidget, View\n",
    "from openlayers.json_defs import (\n",
    "    ScaleLineControl,\n",
    "    FullScreenControl,\n",
    "    ZoomSliderControl,\n",
    "    MousePositionControl,\n",
    "    OverviewMapControl,\n",
    "    TileLayer,\n",
    "    OSM\n",
    ")"
   ]
  },
  {
   "cell_type": "code",
   "execution_count": 2,
   "id": "5369f43a-3f9a-4004-b35c-9b07cbea33ea",
   "metadata": {},
   "outputs": [],
   "source": [
    "base_layers = [\n",
    "    TileLayer(source=OSM())\n",
    "]\n",
    "controls = [\n",
    "    ScaleLineControl(bar=True),\n",
    "    FullScreenControl(),\n",
    "    MousePositionControl(),\n",
    "    ZoomSliderControl(),\n",
    "    OverviewMapControl(layers=base_layers)\n",
    "]"
   ]
  },
  {
   "cell_type": "code",
   "execution_count": 3,
   "id": "c141ba5c-154f-42b8-94ca-75e728ee7f01",
   "metadata": {},
   "outputs": [
    {
     "data": {
      "text/plain": [
       "{'viewOptions': {'center': (0, 0), 'zoom': 0},\n",
       " 'controls': [{'bar': True, 'text': False, '@@type': 'ScaleLineControl'},\n",
       "  {'@@type': 'FullScreenControl'},\n",
       "  {'@@type': 'MousePositionControl'},\n",
       "  {'@@type': 'ZoomSliderControl'},\n",
       "  {'layers': [{'source': {'@@type': 'OSM'}, '@@type': 'TileLayer'}],\n",
       "   '@@type': 'OverviewMapControl'}],\n",
       " 'layers': [{'source': {'@@type': 'OSM'}, '@@type': 'TileLayer'}]}"
      ]
     },
     "execution_count": 3,
     "metadata": {},
     "output_type": "execute_result"
    }
   ],
   "source": [
    "m = MapWidget(controls=controls, layers=base_layers)\n",
    "# m = MapWidget()\n",
    "m.map_options"
   ]
  },
  {
   "cell_type": "code",
   "execution_count": 4,
   "id": "99d76b3f-5d79-4de0-bb4c-f288fcf59648",
   "metadata": {},
   "outputs": [
    {
     "data": {
      "application/vnd.jupyter.widget-view+json": {
       "model_id": "acffb2cc71e646e0b7fee4b6ac6c46b5",
       "version_major": 2,
       "version_minor": 1
      },
      "text/plain": [
       "MapWidget(height='400px', map_options={'viewOptions': {'center': (0, 0), 'zoom': 0}, 'controls': [{'bar': True…"
      ]
     },
     "execution_count": 4,
     "metadata": {},
     "output_type": "execute_result"
    }
   ],
   "source": [
    "m"
   ]
  },
  {
   "cell_type": "code",
   "execution_count": null,
   "id": "6df03ff7-633e-46b4-a42d-a6bf7a843a96",
   "metadata": {},
   "outputs": [],
   "source": []
  }
 ],
 "metadata": {
  "kernelspec": {
   "display_name": "Python 3 (ipykernel)",
   "language": "python",
   "name": "python3"
  },
  "language_info": {
   "codemirror_mode": {
    "name": "ipython",
    "version": 3
   },
   "file_extension": ".py",
   "mimetype": "text/x-python",
   "name": "python",
   "nbconvert_exporter": "python",
   "pygments_lexer": "ipython3",
   "version": "3.11.11"
  }
 },
 "nbformat": 4,
 "nbformat_minor": 5
}
