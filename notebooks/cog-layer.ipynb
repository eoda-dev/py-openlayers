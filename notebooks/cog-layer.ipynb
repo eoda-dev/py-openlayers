{
 "cells": [
  {
   "cell_type": "code",
   "execution_count": 6,
   "id": "a3f75a57-a0a5-45ca-995f-28bc6f15bfc4",
   "metadata": {},
   "outputs": [],
   "source": [
    "# See also https://openlayers.org/en/latest/examples/cog.html\n",
    "from openlayers.anywidget import MapWidget, View\n",
    "from openlayers.sources import GeoTIFFSource\n",
    "from openlayers.layers import WebGLTileLayer"
   ]
  },
  {
   "cell_type": "code",
   "execution_count": 19,
   "id": "8ca5c312-612e-4880-9b26-fe7148d0eebd",
   "metadata": {},
   "outputs": [],
   "source": [
    "layer = WebGLTileLayer(\n",
    "    source=GeoTIFFSource(\n",
    "        sources=[\n",
    "            dict(url=\"https://sentinel-cogs.s3.us-west-2.amazonaws.com/sentinel-s2-l2a-cogs/36/Q/WD/2020/7/S2A_36QWD_20200701_0_L2A/TCI.tif\")\n",
    "        ]\n",
    "    )\n",
    ")"
   ]
  },
  {
   "cell_type": "code",
   "execution_count": 20,
   "id": "d997f086-4879-4532-8608-566c4dc37dc3",
   "metadata": {},
   "outputs": [],
   "source": [
    "m = MapWidget(View(), layers=[layer])"
   ]
  },
  {
   "cell_type": "code",
   "execution_count": 21,
   "id": "7a409621-b7b5-4c22-ba39-c5b88cc77ab3",
   "metadata": {},
   "outputs": [
    {
     "data": {
      "text/plain": [
       "{'viewOptions': {'center': (0, 0), 'zoom': 0},\n",
       " 'layers': [{'type': 'WebGLTileLayer',\n",
       "   'options': {'source': {'type': 'GeoTIFFSource',\n",
       "     'options': {'sources': [{'url': 'https://sentinel-cogs.s3.us-west-2.amazonaws.com/sentinel-s2-l2a-cogs/36/Q/WD/2020/7/S2A_36QWD_20200701_0_L2A/TCI.tif'}]}}}}]}"
      ]
     },
     "execution_count": 21,
     "metadata": {},
     "output_type": "execute_result"
    }
   ],
   "source": [
    "m.map_options"
   ]
  },
  {
   "cell_type": "code",
   "execution_count": 22,
   "id": "250913c3-707d-48c2-8c88-2b522a97e6f9",
   "metadata": {},
   "outputs": [
    {
     "data": {
      "application/vnd.jupyter.widget-view+json": {
       "model_id": "b37ed14a72544335865afcf10886b6d2",
       "version_major": 2,
       "version_minor": 1
      },
      "text/plain": [
       "MapWidget(height='400px', map_options={'viewOptions': {'center': (0, 0), 'zoom': 0}, 'layers': [{'type': 'WebG…"
      ]
     },
     "execution_count": 22,
     "metadata": {},
     "output_type": "execute_result"
    }
   ],
   "source": [
    "m"
   ]
  },
  {
   "cell_type": "code",
   "execution_count": null,
   "id": "d7377233-0af7-4f0d-988e-11f6d05da0f1",
   "metadata": {},
   "outputs": [],
   "source": []
  }
 ],
 "metadata": {
  "kernelspec": {
   "display_name": "Python 3 (ipykernel)",
   "language": "python",
   "name": "python3"
  },
  "language_info": {
   "codemirror_mode": {
    "name": "ipython",
    "version": 3
   },
   "file_extension": ".py",
   "mimetype": "text/x-python",
   "name": "python",
   "nbconvert_exporter": "python",
   "pygments_lexer": "ipython3",
   "version": "3.11.11"
  }
 },
 "nbformat": 4,
 "nbformat_minor": 5
}
