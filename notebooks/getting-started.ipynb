{
 "cells": [
  {
   "cell_type": "code",
   "execution_count": 1,
   "id": "d95ae888-75f7-4c21-8fe7-c48f77a56521",
   "metadata": {},
   "outputs": [],
   "source": [
    "from openlayers.anywidget import MapWidget, View"
   ]
  },
  {
   "cell_type": "code",
   "execution_count": 2,
   "id": "5490ebb4-e684-4ee4-8e56-d68c04c9eedd",
   "metadata": {},
   "outputs": [],
   "source": [
    "view = View(center=(0, 0), zoom=4)"
   ]
  },
  {
   "cell_type": "code",
   "execution_count": 3,
   "id": "3a894c52-2315-4539-b915-05821ae758d6",
   "metadata": {},
   "outputs": [],
   "source": [
    "m = MapWidget(view)"
   ]
  },
  {
   "cell_type": "code",
   "execution_count": 4,
   "id": "c0cb7e15-7110-49e6-a9b1-12287b2a9dd7",
   "metadata": {},
   "outputs": [
    {
     "data": {
      "text/plain": [
       "{'center': (0.0, 0.0), 'zoom': 4.0}"
      ]
     },
     "execution_count": 4,
     "metadata": {},
     "output_type": "execute_result"
    }
   ],
   "source": [
    "m.view_options"
   ]
  },
  {
   "cell_type": "code",
   "execution_count": 5,
   "id": "831503c4-fa55-47fc-830e-2a921b295914",
   "metadata": {},
   "outputs": [
    {
     "data": {
      "application/vnd.jupyter.widget-view+json": {
       "model_id": "f760c6b4ab9848b288fb6a5971b355e5",
       "version_major": 2,
       "version_minor": 1
      },
      "text/plain": [
       "MapWidget(height='400px', view_options={'center': (0.0, 0.0), 'zoom': 4.0})"
      ]
     },
     "execution_count": 5,
     "metadata": {},
     "output_type": "execute_result"
    }
   ],
   "source": [
    "m"
   ]
  },
  {
   "cell_type": "code",
   "execution_count": null,
   "id": "ff05ee29-0916-482a-b7b6-8f967643dab5",
   "metadata": {},
   "outputs": [],
   "source": []
  }
 ],
 "metadata": {
  "kernelspec": {
   "display_name": "Python 3 (ipykernel)",
   "language": "python",
   "name": "python3"
  },
  "language_info": {
   "codemirror_mode": {
    "name": "ipython",
    "version": 3
   },
   "file_extension": ".py",
   "mimetype": "text/x-python",
   "name": "python",
   "nbconvert_exporter": "python",
   "pygments_lexer": "ipython3",
   "version": "3.11.11"
  }
 },
 "nbformat": 4,
 "nbformat_minor": 5
}
